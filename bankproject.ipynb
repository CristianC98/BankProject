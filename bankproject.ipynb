{
 "cells": [
  {
   "cell_type": "code",
   "execution_count": 7,
   "id": "381528b2",
   "metadata": {},
   "outputs": [],
   "source": [
    "import pandas as pd\n",
    "import matplotlib.pyplot as plt"
   ]
  },
  {
   "cell_type": "code",
   "execution_count": 3,
   "id": "33585ebd",
   "metadata": {},
   "outputs": [],
   "source": [
    "df= pd.read_excel ('bank-full.xlsx')"
   ]
  },
  {
   "cell_type": "markdown",
   "id": "9e6a0e8b",
   "metadata": {},
   "source": [
    "## 1. Exploratory data analysis (EDA)"
   ]
  },
  {
   "cell_type": "markdown",
   "id": "fc262a92",
   "metadata": {},
   "source": [
    "Heare we can se the data set's shape. there are 45211 rows and 17 columns"
   ]
  },
  {
   "cell_type": "code",
   "execution_count": 5,
   "id": "2b7d15d7",
   "metadata": {},
   "outputs": [
    {
     "data": {
      "text/plain": [
       "(45211, 17)"
      ]
     },
     "execution_count": 5,
     "metadata": {},
     "output_type": "execute_result"
    }
   ],
   "source": [
    "df.shape"
   ]
  },
  {
   "cell_type": "markdown",
   "id": "6d0b99da",
   "metadata": {},
   "source": [
    "There are 17 columns, no one of those have missing values. lets do an EDA for each variable in the data set."
   ]
  },
  {
   "cell_type": "code",
   "execution_count": 6,
   "id": "6b31ae96",
   "metadata": {},
   "outputs": [
    {
     "name": "stdout",
     "output_type": "stream",
     "text": [
      "<class 'pandas.core.frame.DataFrame'>\n",
      "RangeIndex: 45211 entries, 0 to 45210\n",
      "Data columns (total 17 columns):\n",
      " #   Column     Non-Null Count  Dtype \n",
      "---  ------     --------------  ----- \n",
      " 0   age        45211 non-null  int64 \n",
      " 1   job        45211 non-null  object\n",
      " 2   marital    45211 non-null  object\n",
      " 3   education  45211 non-null  object\n",
      " 4   default    45211 non-null  object\n",
      " 5   balance    45211 non-null  int64 \n",
      " 6   housing    45211 non-null  object\n",
      " 7   loan       45211 non-null  object\n",
      " 8   contact    45211 non-null  object\n",
      " 9   day        45211 non-null  int64 \n",
      " 10  month      45211 non-null  object\n",
      " 11  duration   45211 non-null  int64 \n",
      " 12  campaign   45211 non-null  int64 \n",
      " 13  pdays      45211 non-null  int64 \n",
      " 14  previous   45211 non-null  int64 \n",
      " 15  poutcome   45211 non-null  object\n",
      " 16  y          45211 non-null  object\n",
      "dtypes: int64(7), object(10)\n",
      "memory usage: 5.9+ MB\n"
     ]
    }
   ],
   "source": [
    "df.info()"
   ]
  },
  {
   "cell_type": "markdown",
   "id": "9a8ebce5",
   "metadata": {},
   "source": [
    "### 1.1 Age"
   ]
  },
  {
   "cell_type": "markdown",
   "id": "2f288967",
   "metadata": {},
   "source": [
    "Most of the people are between 25 and 40 years old.\n",
    "- The mean of the age is 40.93\n",
    "-The median of the age is 39\n",
    "-The minimum age is 18\n",
    "-the maximum age is 95"
   ]
  },
  {
   "cell_type": "code",
   "execution_count": 10,
   "id": "a561d78c",
   "metadata": {},
   "outputs": [
    {
     "data": {
      "text/plain": [
       "Text(0.5, 0, 'Age data')"
      ]
     },
     "execution_count": 10,
     "metadata": {},
     "output_type": "execute_result"
    },
    {
     "data": {
      "image/png": "[encoded data removed]",
      "text/plain": [
       "<Figure size 432x288 with 1 Axes>"
      ]
     },
     "metadata": {
      "needs_background": "light"
     },
     "output_type": "display_data"
    }
   ],
   "source": [
    "plt.hist(df['age'])\n",
    "plt.ylabel('Frecuency')\n",
    "plt.xlabel('Age data')"
   ]
  },
  {
   "cell_type": "code",
   "execution_count": 18,
   "id": "f1722954",
   "metadata": {},
   "outputs": [
    {
     "name": "stdout",
     "output_type": "stream",
     "text": [
      "mean:  40.93621021432837\n",
      "median:  39.0\n",
      "minimum age: 18\n",
      "maximum age 95\n"
     ]
    }
   ],
   "source": [
    "print(\"mean: \",df['age'].mean())\n",
    "print(\"median: \",df['age'].median())\n",
    "print(\"minimum age:\",df['age'].min())\n",
    "print(\"maximum age\",df['age'].max())\n"
   ]
  },
  {
   "cell_type": "markdown",
   "id": "0170a649",
   "metadata": {},
   "source": [
    "### 1.2 Job"
   ]
  },
  {
   "cell_type": "markdown",
   "id": "e8edef24",
   "metadata": {},
   "source": [
    "On below chart and on below table we can see that there are 3 jobs that are the most common in the data set.\n",
    "- Blue-collar:21.52% of the people have this job\n",
    "- Management:20.91% of the people have this job\n",
    "- Techncian:16,8% of the peoaple have this job"
   ]
  },
  {
   "cell_type": "code",
   "execution_count": 23,
   "id": "f6d16e27",
   "metadata": {},
   "outputs": [
    {
     "data": {
      "text/plain": [
       "<AxesSubplot:title={'center':'Number of records per job'}, ylabel='job'>"
      ]
     },
     "execution_count": 23,
     "metadata": {},
     "output_type": "execute_result"
    },
    {
     "data": {
      "image/png": "[encoded data removed]",
      "text/plain": [
       "<Figure size 432x288 with 1 Axes>"
      ]
     },
     "metadata": {
      "needs_background": "light"
     },
     "output_type": "display_data"
    }
   ],
   "source": [
    "df.groupby('job')['job'].count().plot(kind='barh',title=\"Number of records per job\")\n"
   ]
  },
  {
   "cell_type": "code",
   "execution_count": 28,
   "id": "895d234d",
   "metadata": {},
   "outputs": [
    {
     "data": {
      "text/plain": [
       "job\n",
       "admin.           11.437482\n",
       "blue-collar      21.525735\n",
       "entrepreneur      3.289023\n",
       "housemaid         2.742695\n",
       "management       20.919688\n",
       "retired           5.007631\n",
       "self-employed     3.492513\n",
       "services          9.188029\n",
       "student           2.074716\n",
       "technician       16.803433\n",
       "unemployed        2.882042\n",
       "unknown           0.637013\n",
       "Name: job, dtype: float64"
      ]
     },
     "execution_count": 28,
     "metadata": {},
     "output_type": "execute_result"
    }
   ],
   "source": [
    "(df.groupby('job')['job'].count()/df.shape[0])*100"
   ]
  },
  {
   "cell_type": "markdown",
   "id": "a5fecfaf",
   "metadata": {},
   "source": [
    "### 1.3 Marital"
   ]
  },
  {
   "cell_type": "markdown",
   "id": "9ba86a42",
   "metadata": {},
   "source": [
    "On below pie chart, we can see that 60.2% of the people are married, while 11.5% are divorced and 28,3% are single"
   ]
  },
  {
   "cell_type": "code",
   "execution_count": 39,
   "id": "f9d477d4",
   "metadata": {},
   "outputs": [
    {
     "data": {
      "text/plain": [
       "([<matplotlib.patches.Wedge at 0x1e489874d90>,\n",
       "  <matplotlib.patches.Wedge at 0x1e4898825e0>,\n",
       "  <matplotlib.patches.Wedge at 0x1e489882d00>],\n",
       " [Text(1.0287792954771975, 0.38937534744439245, 'divorced'),\n",
       "  Text(-0.9507946403757129, 0.5531632234999169, 'married'),\n",
       "  Text(0.6934270562702118, -0.8539080264480646, 'single')],\n",
       " [Text(0.5611523429875622, 0.21238655315148677, '11.5%'),\n",
       "  Text(-0.5186152583867525, 0.30172539463631826, '60.2%'),\n",
       "  Text(0.3782329397837519, -0.46576801442621696, '28.3%')])"
      ]
     },
     "execution_count": 39,
     "metadata": {},
     "output_type": "execute_result"
    },
    {
     "data": {
      "image/png": "[encoded data removed]",
      "text/plain": [
       "<Figure size 432x288 with 1 Axes>"
      ]
     },
     "metadata": {},
     "output_type": "display_data"
    }
   ],
   "source": [
    "counts=df.groupby('marital')['marital'].count()\n",
    "plt.pie(counts,labels=counts.index, autopct='%1.1f%%')"
   ]
  }
 ],
 "metadata": {
  "kernelspec": {
   "display_name": "Python 3 (ipykernel)",
   "language": "python",
   "name": "python3"
  },
  "language_info": {
   "codemirror_mode": {
    "name": "ipython",
    "version": 3
   },
   "file_extension": ".py",
   "mimetype": "text/x-python",
   "name": "python",
   "nbconvert_exporter": "python",
   "pygments_lexer": "ipython3",
   "version": "3.9.6"
  }
 },
 "nbformat": 4,
 "nbformat_minor": 5
}
